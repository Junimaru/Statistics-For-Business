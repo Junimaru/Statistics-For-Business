{
 "cells": [
  {
   "cell_type": "markdown",
   "id": "28698018-d004-478c-b965-bf6d3429b96a",
   "metadata": {},
   "source": [
    "# PREDIKSI PASIEN GAGAL JANTUNG\n",
    "## Project Statistics For Business - Juniarto Kurniawan\n"
   ]
  },
  {
   "cell_type": "markdown",
   "id": "36249693-b10e-40d4-b945-1c5e1666934c",
   "metadata": {},
   "source": []
  },
  {
   "cell_type": "markdown",
   "id": "0b3084a3-4ca2-4118-b824-084061d11a93",
   "metadata": {},
   "source": [
    "### Pengantar"
   ]
  },
  {
   "cell_type": "markdown",
   "id": "4d4a976a-413f-45d2-98b9-1929ecb44cc0",
   "metadata": {},
   "source": [
    "Regresi logistik adalah sebuah pendekatan untuk membuat model prediksi seperti halnya regresi linear atau yang biasa disebut dengan istilah Ordinary Least Squares (OLS) regression. Perbedaannya adalah pada regresi logistik, peneliti memprediksi variabel terikat yang berskala dikotomi. Skala dikotomi yang dimaksud adalah skala data nominal dengan dua kategori, misalnya: Ya dan Tidak, Baik dan Buruk atau Tinggi dan Rendah.\n",
    "\n",
    "Apabila pada OLS mewajibkan syarat atau asumsi bahwa error varians (residual) terdistribusi secara normal. Sebaliknya, pada regresi ini tidak dibutuhkan asumsi tersebut sebab pada regresi jenis logistik ini mengikuti distribusi logistik.\n",
    "Pada Analisis kali ini akan dilakukan prediksi kematian terhadap pasien gagal jantung dengan berdasarkan beberapa faktor/ Parameter yaitu :\n",
    "1.\tUsia\n",
    "2.\tAnemia\n",
    "3.\tHigh Blood Pressure\n",
    "4.\tDiabetes\n",
    "5.\tSex\n",
    "6.\tSerum Ceratine\n",
    "7.\tSerum Sodium\n",
    "8.\tSmoking.\n",
    "9.\tDeath Event (Target)\n"
   ]
  },
  {
   "cell_type": "markdown",
   "id": "ae7cc332-4a13-48c5-af78-b5e4f644d871",
   "metadata": {},
   "source": [
    "### Part I - Data Understanding"
   ]
  },
  {
   "cell_type": "code",
   "execution_count": 1,
   "id": "dc2f91cb-992e-4871-99a5-40430d0f4184",
   "metadata": {},
   "outputs": [],
   "source": [
    "# load data\n",
    "import pandas as pd\n",
    "import numpy as np\n",
    "\n",
    "# visualization\n",
    "import matplotlib.pyplot as plt\n",
    "\n",
    "from matplotlib.pyplot import figure"
   ]
  },
  {
   "cell_type": "code",
   "execution_count": 2,
   "id": "7b2330a3-a492-461e-8553-1ecb0791046b",
   "metadata": {},
   "outputs": [
    {
     "data": {
      "text/html": [
       "<div>\n",
       "<style scoped>\n",
       "    .dataframe tbody tr th:only-of-type {\n",
       "        vertical-align: middle;\n",
       "    }\n",
       "\n",
       "    .dataframe tbody tr th {\n",
       "        vertical-align: top;\n",
       "    }\n",
       "\n",
       "    .dataframe thead th {\n",
       "        text-align: right;\n",
       "    }\n",
       "</style>\n",
       "<table border=\"1\" class=\"dataframe\">\n",
       "  <thead>\n",
       "    <tr style=\"text-align: right;\">\n",
       "      <th></th>\n",
       "      <th>age</th>\n",
       "      <th>anaemia</th>\n",
       "      <th>creatinine_phosphokinase</th>\n",
       "      <th>diabetes</th>\n",
       "      <th>ejection_fraction</th>\n",
       "      <th>high_blood_pressure</th>\n",
       "      <th>platelets</th>\n",
       "      <th>serum_creatinine</th>\n",
       "      <th>serum_sodium</th>\n",
       "      <th>sex</th>\n",
       "      <th>smoking</th>\n",
       "      <th>time</th>\n",
       "      <th>DEATH_EVENT</th>\n",
       "    </tr>\n",
       "  </thead>\n",
       "  <tbody>\n",
       "    <tr>\n",
       "      <th>0</th>\n",
       "      <td>75.0</td>\n",
       "      <td>0</td>\n",
       "      <td>582</td>\n",
       "      <td>0</td>\n",
       "      <td>20</td>\n",
       "      <td>1</td>\n",
       "      <td>265000.00</td>\n",
       "      <td>1.9</td>\n",
       "      <td>130</td>\n",
       "      <td>1</td>\n",
       "      <td>0</td>\n",
       "      <td>4</td>\n",
       "      <td>1</td>\n",
       "    </tr>\n",
       "    <tr>\n",
       "      <th>1</th>\n",
       "      <td>55.0</td>\n",
       "      <td>0</td>\n",
       "      <td>7861</td>\n",
       "      <td>0</td>\n",
       "      <td>38</td>\n",
       "      <td>0</td>\n",
       "      <td>263358.03</td>\n",
       "      <td>1.1</td>\n",
       "      <td>136</td>\n",
       "      <td>1</td>\n",
       "      <td>0</td>\n",
       "      <td>6</td>\n",
       "      <td>1</td>\n",
       "    </tr>\n",
       "    <tr>\n",
       "      <th>2</th>\n",
       "      <td>65.0</td>\n",
       "      <td>0</td>\n",
       "      <td>146</td>\n",
       "      <td>0</td>\n",
       "      <td>20</td>\n",
       "      <td>0</td>\n",
       "      <td>162000.00</td>\n",
       "      <td>1.3</td>\n",
       "      <td>129</td>\n",
       "      <td>1</td>\n",
       "      <td>1</td>\n",
       "      <td>7</td>\n",
       "      <td>1</td>\n",
       "    </tr>\n",
       "    <tr>\n",
       "      <th>3</th>\n",
       "      <td>50.0</td>\n",
       "      <td>1</td>\n",
       "      <td>111</td>\n",
       "      <td>0</td>\n",
       "      <td>20</td>\n",
       "      <td>0</td>\n",
       "      <td>210000.00</td>\n",
       "      <td>1.9</td>\n",
       "      <td>137</td>\n",
       "      <td>1</td>\n",
       "      <td>0</td>\n",
       "      <td>7</td>\n",
       "      <td>1</td>\n",
       "    </tr>\n",
       "    <tr>\n",
       "      <th>4</th>\n",
       "      <td>65.0</td>\n",
       "      <td>1</td>\n",
       "      <td>160</td>\n",
       "      <td>1</td>\n",
       "      <td>20</td>\n",
       "      <td>0</td>\n",
       "      <td>327000.00</td>\n",
       "      <td>2.7</td>\n",
       "      <td>116</td>\n",
       "      <td>0</td>\n",
       "      <td>0</td>\n",
       "      <td>8</td>\n",
       "      <td>1</td>\n",
       "    </tr>\n",
       "  </tbody>\n",
       "</table>\n",
       "</div>"
      ],
      "text/plain": [
       "    age  anaemia  creatinine_phosphokinase  diabetes  ejection_fraction  \\\n",
       "0  75.0        0                       582         0                 20   \n",
       "1  55.0        0                      7861         0                 38   \n",
       "2  65.0        0                       146         0                 20   \n",
       "3  50.0        1                       111         0                 20   \n",
       "4  65.0        1                       160         1                 20   \n",
       "\n",
       "   high_blood_pressure  platelets  serum_creatinine  serum_sodium  sex  \\\n",
       "0                    1  265000.00               1.9           130    1   \n",
       "1                    0  263358.03               1.1           136    1   \n",
       "2                    0  162000.00               1.3           129    1   \n",
       "3                    0  210000.00               1.9           137    1   \n",
       "4                    0  327000.00               2.7           116    0   \n",
       "\n",
       "   smoking  time  DEATH_EVENT  \n",
       "0        0     4            1  \n",
       "1        0     6            1  \n",
       "2        1     7            1  \n",
       "3        0     7            1  \n",
       "4        0     8            1  "
      ]
     },
     "execution_count": 2,
     "metadata": {},
     "output_type": "execute_result"
    }
   ],
   "source": [
    "#Load Dataset Pra Sample\n",
    "data = pd.read_csv(r'D:\\PELATIHAN DATA SCIENCE\\Statistics For Business\\heart_failure_clinical_records_dataset.csv')\n",
    "data.head()"
   ]
  },
  {
   "cell_type": "code",
   "execution_count": 3,
   "id": "b9076990-e771-44b1-9f99-f3dd8f7e6bea",
   "metadata": {},
   "outputs": [
    {
     "name": "stdout",
     "output_type": "stream",
     "text": [
      "<class 'pandas.core.frame.DataFrame'>\n",
      "RangeIndex: 299 entries, 0 to 298\n",
      "Data columns (total 13 columns):\n",
      " #   Column                    Non-Null Count  Dtype  \n",
      "---  ------                    --------------  -----  \n",
      " 0   age                       299 non-null    float64\n",
      " 1   anaemia                   299 non-null    int64  \n",
      " 2   creatinine_phosphokinase  299 non-null    int64  \n",
      " 3   diabetes                  299 non-null    int64  \n",
      " 4   ejection_fraction         299 non-null    int64  \n",
      " 5   high_blood_pressure       299 non-null    int64  \n",
      " 6   platelets                 299 non-null    float64\n",
      " 7   serum_creatinine          299 non-null    float64\n",
      " 8   serum_sodium              299 non-null    int64  \n",
      " 9   sex                       299 non-null    int64  \n",
      " 10  smoking                   299 non-null    int64  \n",
      " 11  time                      299 non-null    int64  \n",
      " 12  DEATH_EVENT               299 non-null    int64  \n",
      "dtypes: float64(3), int64(10)\n",
      "memory usage: 30.5 KB\n"
     ]
    }
   ],
   "source": [
    "data.info()"
   ]
  },
  {
   "cell_type": "code",
   "execution_count": 4,
   "id": "f161a681-c2e2-48a3-9fb8-bf5505f109f6",
   "metadata": {},
   "outputs": [
    {
     "data": {
      "text/plain": [
       "age                         0\n",
       "anaemia                     0\n",
       "creatinine_phosphokinase    0\n",
       "diabetes                    0\n",
       "ejection_fraction           0\n",
       "high_blood_pressure         0\n",
       "platelets                   0\n",
       "serum_creatinine            0\n",
       "serum_sodium                0\n",
       "sex                         0\n",
       "smoking                     0\n",
       "time                        0\n",
       "DEATH_EVENT                 0\n",
       "dtype: int64"
      ]
     },
     "execution_count": 4,
     "metadata": {},
     "output_type": "execute_result"
    }
   ],
   "source": [
    "data.isnull().sum()"
   ]
  },
  {
   "cell_type": "markdown",
   "id": "365c7dea-3b2a-4f34-96c3-5c94948c8f7b",
   "metadata": {},
   "source": [
    "Berdasarkan summary di atas dapat disimpulkan bahwa tidak terdapat data missing\n",
    "Pada analisis ini tidak seluruh variable digunakan untuk melakukan prediksi, hanya beberapa variable penting yang akan digunakan untuk melakukan prediksi yaitu :"
   ]
  },
  {
   "cell_type": "code",
   "execution_count": 5,
   "id": "856aef2f-c448-474b-a7d2-8408db3158e4",
   "metadata": {},
   "outputs": [
    {
     "data": {
      "text/html": [
       "<div>\n",
       "<style scoped>\n",
       "    .dataframe tbody tr th:only-of-type {\n",
       "        vertical-align: middle;\n",
       "    }\n",
       "\n",
       "    .dataframe tbody tr th {\n",
       "        vertical-align: top;\n",
       "    }\n",
       "\n",
       "    .dataframe thead th {\n",
       "        text-align: right;\n",
       "    }\n",
       "</style>\n",
       "<table border=\"1\" class=\"dataframe\">\n",
       "  <thead>\n",
       "    <tr style=\"text-align: right;\">\n",
       "      <th></th>\n",
       "      <th>age</th>\n",
       "      <th>anaemia</th>\n",
       "      <th>diabetes</th>\n",
       "      <th>high_blood_pressure</th>\n",
       "      <th>serum_creatinine</th>\n",
       "      <th>serum_sodium</th>\n",
       "      <th>sex</th>\n",
       "      <th>smoking</th>\n",
       "      <th>DEATH_EVENT</th>\n",
       "    </tr>\n",
       "  </thead>\n",
       "  <tbody>\n",
       "    <tr>\n",
       "      <th>0</th>\n",
       "      <td>75.0</td>\n",
       "      <td>0</td>\n",
       "      <td>0</td>\n",
       "      <td>1</td>\n",
       "      <td>1.9</td>\n",
       "      <td>130</td>\n",
       "      <td>1</td>\n",
       "      <td>0</td>\n",
       "      <td>1</td>\n",
       "    </tr>\n",
       "    <tr>\n",
       "      <th>1</th>\n",
       "      <td>55.0</td>\n",
       "      <td>0</td>\n",
       "      <td>0</td>\n",
       "      <td>0</td>\n",
       "      <td>1.1</td>\n",
       "      <td>136</td>\n",
       "      <td>1</td>\n",
       "      <td>0</td>\n",
       "      <td>1</td>\n",
       "    </tr>\n",
       "    <tr>\n",
       "      <th>2</th>\n",
       "      <td>65.0</td>\n",
       "      <td>0</td>\n",
       "      <td>0</td>\n",
       "      <td>0</td>\n",
       "      <td>1.3</td>\n",
       "      <td>129</td>\n",
       "      <td>1</td>\n",
       "      <td>1</td>\n",
       "      <td>1</td>\n",
       "    </tr>\n",
       "    <tr>\n",
       "      <th>3</th>\n",
       "      <td>50.0</td>\n",
       "      <td>1</td>\n",
       "      <td>0</td>\n",
       "      <td>0</td>\n",
       "      <td>1.9</td>\n",
       "      <td>137</td>\n",
       "      <td>1</td>\n",
       "      <td>0</td>\n",
       "      <td>1</td>\n",
       "    </tr>\n",
       "    <tr>\n",
       "      <th>4</th>\n",
       "      <td>65.0</td>\n",
       "      <td>1</td>\n",
       "      <td>1</td>\n",
       "      <td>0</td>\n",
       "      <td>2.7</td>\n",
       "      <td>116</td>\n",
       "      <td>0</td>\n",
       "      <td>0</td>\n",
       "      <td>1</td>\n",
       "    </tr>\n",
       "  </tbody>\n",
       "</table>\n",
       "</div>"
      ],
      "text/plain": [
       "    age  anaemia  diabetes  high_blood_pressure  serum_creatinine  \\\n",
       "0  75.0        0         0                    1               1.9   \n",
       "1  55.0        0         0                    0               1.1   \n",
       "2  65.0        0         0                    0               1.3   \n",
       "3  50.0        1         0                    0               1.9   \n",
       "4  65.0        1         1                    0               2.7   \n",
       "\n",
       "   serum_sodium  sex  smoking  DEATH_EVENT  \n",
       "0           130    1        0            1  \n",
       "1           136    1        0            1  \n",
       "2           129    1        1            1  \n",
       "3           137    1        0            1  \n",
       "4           116    0        0            1  "
      ]
     },
     "execution_count": 5,
     "metadata": {},
     "output_type": "execute_result"
    }
   ],
   "source": [
    "data_net = data.drop(['creatinine_phosphokinase','ejection_fraction','creatinine_phosphokinase','platelets','time'],axis = 1)\n",
    "data_net.head()"
   ]
  },
  {
   "cell_type": "markdown",
   "id": "163cf2ee-fafe-462c-8a53-8a7aa5a5fb5b",
   "metadata": {},
   "source": [
    "### Part II - Statistical Test for Proportion and Mean"
   ]
  },
  {
   "cell_type": "markdown",
   "id": "dc14b24b-3396-4814-94e3-da389ac40d79",
   "metadata": {},
   "source": [
    "#### Two Sample z test for proportion"
   ]
  },
  {
   "cell_type": "code",
   "execution_count": 6,
   "id": "6661df66-0dd9-467e-ab53-49dd27c5e1e6",
   "metadata": {},
   "outputs": [],
   "source": [
    "from statsmodels.stats.proportion import proportions_ztest"
   ]
  },
  {
   "cell_type": "code",
   "execution_count": 7,
   "id": "edc2dadf-3a2b-4e39-bcd2-81243f94ac3d",
   "metadata": {},
   "outputs": [
    {
     "name": "stdout",
     "output_type": "stream",
     "text": [
      "The computed Z test statistic is:  1.1459\n",
      "The p-value is:  0.1259\n",
      "1.6448536269514722\n",
      "Menerima H0,  Proporsi pasien gagal jantung yang meninggal dengan gejala anemia sama dengan non anemia\n"
     ]
    }
   ],
   "source": [
    "# PROPORSI PASIEN MENINGGAL BERDASARKAN PENYAKIT ANEMIA\n",
    "# The number of successes in observasion\n",
    "anemia_cond = (data_net['anaemia'] == 1) & (data_net['DEATH_EVENT'] == 1)\n",
    "non_anemia_cond = (data_net['anaemia'] == 0) & (data_net['DEATH_EVENT'] == 1)\n",
    "\n",
    "anemia_data = data_net[anemia_cond]\n",
    "non_anemia_data = data_net[non_anemia_cond]\n",
    "\n",
    "anemia = len(anemia_data)\n",
    "non_anemia  = len(non_anemia_data)\n",
    "\n",
    "# The number of observations\n",
    "n_anemia = len(data_net[data_net.anaemia == 1])\n",
    "n_non_anemia = len(data_net[data_net.anaemia == 0])\n",
    "n_non_anemia\n",
    "\n",
    "# Perform two proportion z-test\n",
    "test_stat, p_value = proportions_ztest(count = [anemia, non_anemia], \n",
    "                                                nobs = [n_anemia, n_non_anemia], \n",
    "                                                alternative = 'larger')\n",
    "\n",
    "print(\"The computed Z test statistic is: \",np.round(test_stat, 4))\n",
    "print(\"The p-value is: \", np.round(p_value,4))\n",
    "\n",
    "# critical value in our case is z-value where the left-tailed area under a standard normal distribution is 0.05 (alpha)\n",
    "import scipy.stats as stats\n",
    "z_crit = stats.norm.ppf(1-0.05)\n",
    "print(z_crit)\n",
    "\n",
    "# Decision rule\n",
    "if p_value<0.05:\n",
    "    print(\"Menolak H0, Proporsi pasien gagal jantung yang meninggal dengan gejala anemia berbeda dengan non anemia\")\n",
    "else:\n",
    "    print(\"Menerima H0,  Proporsi pasien gagal jantung yang meninggal dengan gejala anemia sama dengan non anemia\")"
   ]
  },
  {
   "cell_type": "code",
   "execution_count": 8,
   "id": "24a8e188-c51f-4974-9e5b-530a9bb2fb18",
   "metadata": {},
   "outputs": [
    {
     "data": {
      "text/plain": [
       "46"
      ]
     },
     "execution_count": 8,
     "metadata": {},
     "output_type": "execute_result"
    }
   ],
   "source": [
    "anemia"
   ]
  },
  {
   "cell_type": "code",
   "execution_count": 9,
   "id": "18275dac-faa4-4e69-81f1-52ed13c66d5a",
   "metadata": {},
   "outputs": [
    {
     "name": "stdout",
     "output_type": "stream",
     "text": [
      "The computed Z test statistic is:  1.3721\n",
      "The p-value is:  0.085\n",
      "1.6448536269514722\n",
      "Menerima H0,  Proporsi pasien gagal jantung yang meninggal dengan gejala tekanan darah tinggi sama dengan bukan tekanan darah tinggi\n"
     ]
    }
   ],
   "source": [
    "# PROPORSI PASIEN MENINGGAL BERDASARKAN RIWAYAT TEKANAN DARAH TINGGI\n",
    "# The number of successes in observasion\n",
    "high_blood_pressure_cond = (data_net['high_blood_pressure'] == 1) & (data_net['DEATH_EVENT'] == 1)\n",
    "non_high_blood_pressure_cond = (data_net['high_blood_pressure'] == 0) & (data_net['DEATH_EVENT'] == 1)\n",
    "\n",
    "high_blood_pressure_data = data_net[high_blood_pressure_cond]\n",
    "non_high_blood_pressure_data = data_net[non_high_blood_pressure_cond]\n",
    "\n",
    "high_blood_pressure = len(high_blood_pressure_data)\n",
    "non_high_blood_pressure  = len(non_high_blood_pressure_data)\n",
    "\n",
    "# The number of observations\n",
    "n_high_blood_pressure = len(data_net[data_net.high_blood_pressure == 1])\n",
    "n_non_high_blood_pressure = len(data_net[data_net.high_blood_pressure == 0])\n",
    "\n",
    "# Perform two proportion z-test\n",
    "test_stat, p_value = proportions_ztest(count = [high_blood_pressure, non_high_blood_pressure], \n",
    "                                                nobs = [n_high_blood_pressure, n_non_high_blood_pressure], \n",
    "                                                alternative = 'larger')\n",
    "\n",
    "print(\"The computed Z test statistic is: \",np.round(test_stat, 4))\n",
    "print(\"The p-value is: \", np.round(p_value,4))\n",
    "\n",
    "# critical value in our case is z-value where the left-tailed area under a standard normal distribution is 0.05 (alpha)\n",
    "import scipy.stats as stats\n",
    "z_crit = stats.norm.ppf(1-0.05)\n",
    "print(z_crit)\n",
    "\n",
    "# Decision rule\n",
    "if p_value<0.05:\n",
    "    print(\"Menolak H0, Proporsi pasien gagal jantung yang meninggal dengan gejala tekanan darah tinggi berbeda dengan bukan tekanan darah tinggi\")\n",
    "else:\n",
    "    print(\"Menerima H0,  Proporsi pasien gagal jantung yang meninggal dengan gejala tekanan darah tinggi sama dengan bukan tekanan darah tinggi\")"
   ]
  },
  {
   "cell_type": "code",
   "execution_count": 10,
   "id": "2b4c2f9f-4d36-4d1c-a2b9-0d3c1dc44955",
   "metadata": {},
   "outputs": [
    {
     "name": "stdout",
     "output_type": "stream",
     "text": [
      "The computed Z test statistic is:  -0.0336\n",
      "The p-value is:  0.5134\n",
      "1.6448536269514722\n",
      "Menerima H0,  Proporsi pasien gagal jantung yang meninggal dengan riwayat diabetes sama dengan bukan diabetes\n"
     ]
    }
   ],
   "source": [
    "# PROPORSI PASIEN MENINGGAL BERDASARKAN RIWAYAT DIABETES\n",
    "# The number of successes in observasion\n",
    "diabetes_cond = (data_net['diabetes'] == 1) & (data_net['DEATH_EVENT'] == 1)\n",
    "non_diabetes_cond = (data_net['diabetes'] == 0) & (data_net['DEATH_EVENT'] == 1)\n",
    "\n",
    "diabetes_data = data_net[diabetes_cond]\n",
    "non_diabetes_data = data_net[non_diabetes_cond]\n",
    "\n",
    "diabetes = len(diabetes_data)\n",
    "non_diabetes  = len(non_diabetes_data)\n",
    "\n",
    "# The number of observations\n",
    "n_diabetes = len(data_net[data_net.diabetes == 1])\n",
    "n_non_diabetes = len(data_net[data_net.diabetes == 0])\n",
    "\n",
    "# Perform two proportion z-test\n",
    "test_stat, p_value = proportions_ztest(count = [diabetes, non_diabetes], \n",
    "                                                nobs = [n_diabetes, n_non_diabetes], \n",
    "                                                alternative = 'larger')\n",
    "\n",
    "print(\"The computed Z test statistic is: \",np.round(test_stat, 4))\n",
    "print(\"The p-value is: \", np.round(p_value,4))\n",
    "\n",
    "# critical value in our case is z-value where the left-tailed area under a standard normal distribution is 0.05 (alpha)\n",
    "import scipy.stats as stats\n",
    "z_crit = stats.norm.ppf(1-0.05)\n",
    "print(z_crit)\n",
    "\n",
    "# Decision rule\n",
    "if p_value<0.05:\n",
    "    print(\"Menolak H0, Proporsi pasien gagal jantung yang meninggal dengan riwayat diabetes berbeda dengan bukan diabetes\")\n",
    "else:\n",
    "    print(\"Menerima H0,  Proporsi pasien gagal jantung yang meninggal dengan riwayat diabetes sama dengan bukan diabetes\")"
   ]
  },
  {
   "cell_type": "code",
   "execution_count": 11,
   "id": "a6a91d7e-e923-4b3f-8b85-4cff2e0efd7c",
   "metadata": {},
   "outputs": [
    {
     "name": "stdout",
     "output_type": "stream",
     "text": [
      "The computed Z test statistic is:  -0.0746\n",
      "The p-value is:  0.5297\n",
      "1.6448536269514722\n",
      "Menerima H0,  Proporsi pasien gagal jantung yang meninggal antara pria sama dengan wanita\n"
     ]
    }
   ],
   "source": [
    "# PROPORSI PASIEN MENINGGAL BERDASARKAN JENIS KELAMIN\n",
    "# The number of successes in observasion\n",
    "pria_cond = (data_net['sex'] == 1) & (data_net['DEATH_EVENT'] == 1)\n",
    "wanita_cond = (data_net['sex'] == 0) & (data_net['DEATH_EVENT'] == 1)\n",
    "\n",
    "pria_data = data_net[pria_cond]\n",
    "wanita_data = data_net[wanita_cond]\n",
    "\n",
    "pria = len(pria_data)\n",
    "wanita  = len(wanita_data)\n",
    "\n",
    "# The number of observations\n",
    "n_pria = len(data_net[data_net.sex == 1])\n",
    "n_wanita = len(data_net[data_net.sex == 0])\n",
    "\n",
    "# Perform two proportion z-test\n",
    "test_stat, p_value = proportions_ztest(count = [pria, wanita], \n",
    "                                                nobs = [n_pria, n_wanita], \n",
    "                                                alternative = 'larger')\n",
    "\n",
    "print(\"The computed Z test statistic is: \",np.round(test_stat, 4))\n",
    "print(\"The p-value is: \", np.round(p_value,4))\n",
    "\n",
    "# critical value in our case is z-value where the left-tailed area under a standard normal distribution is 0.05 (alpha)\n",
    "import scipy.stats as stats\n",
    "z_crit = stats.norm.ppf(1-0.05)\n",
    "print(z_crit)\n",
    "\n",
    "# Decision rule\n",
    "if p_value<0.05:\n",
    "    print(\"Menolak H0, Proporsi pasien gagal jantung yang meninggal antara pria berbeda dengan wanita\")\n",
    "else:\n",
    "    print(\"Menerima H0,  Proporsi pasien gagal jantung yang meninggal antara pria sama dengan wanita\")"
   ]
  },
  {
   "cell_type": "code",
   "execution_count": 12,
   "id": "81aeb02e-1efb-47af-913c-569ba18b76a6",
   "metadata": {},
   "outputs": [
    {
     "name": "stdout",
     "output_type": "stream",
     "text": [
      "The computed Z test statistic is:  -0.2183\n",
      "The p-value is:  0.5864\n",
      "1.6448536269514722\n",
      "Menrima H0,  Proporsi pasien gagal jantung yang meninggal dengan riwayat perokok sama dengan bukan perokok\n"
     ]
    }
   ],
   "source": [
    "# PROPORSI PASIEN MENINGGAL BERDASARKAN RIWAYAT MEROKOK\n",
    "# The number of successes in observasion\n",
    "smoking_cond = (data_net['smoking'] == 1) & (data_net['DEATH_EVENT'] == 1)\n",
    "non_smoking_cond = (data_net['smoking'] == 0) & (data_net['DEATH_EVENT'] == 1)\n",
    "\n",
    "smoking_data = data_net[smoking_cond]\n",
    "non_smoking_data = data_net[non_smoking_cond]\n",
    "\n",
    "smoking = len(smoking_data)\n",
    "non_smoking  = len(non_smoking_data)\n",
    "\n",
    "# The number of observations\n",
    "n_smoking = len(data_net[data_net.smoking == 1])\n",
    "n_non_smoking = len(data_net[data_net.smoking == 0])\n",
    "\n",
    "# Perform two proportion z-test\n",
    "test_stat, p_value = proportions_ztest(count = [smoking, non_smoking], \n",
    "                                                nobs = [n_smoking, n_non_smoking], \n",
    "                                                alternative = 'larger')\n",
    "\n",
    "print(\"The computed Z test statistic is: \",np.round(test_stat, 4))\n",
    "print(\"The p-value is: \", np.round(p_value,4))\n",
    "\n",
    "# critical value in our case is z-value where the left-tailed area under a standard normal distribution is 0.05 (alpha)\n",
    "import scipy.stats as stats\n",
    "z_crit = stats.norm.ppf(1-0.05)\n",
    "print(z_crit)\n",
    "\n",
    "# Decision rule\n",
    "if p_value<0.05:\n",
    "    print(\"Menolak H0, Proporsi pasien gagal jantung yang meninggal dengan riwayat perokok berbeda dengan bukan perokok\")\n",
    "else:\n",
    "    print(\"Menrima H0,  Proporsi pasien gagal jantung yang meninggal dengan riwayat perokok sama dengan bukan perokok\")"
   ]
  },
  {
   "cell_type": "markdown",
   "id": "60cd97ed-ff34-41c8-8f67-f17b228647cd",
   "metadata": {},
   "source": [
    "#### Two Sample t test for mean"
   ]
  },
  {
   "cell_type": "markdown",
   "id": "71143fb1-c03c-446a-b4c1-2f433a3ffb0f",
   "metadata": {},
   "source": [
    "RATA-RATA USIA PASIEN SERANGAN JANTUNG YANG MENINGGAL BERBEDA DENGAN YANG SELAMAT"
   ]
  },
  {
   "cell_type": "code",
   "execution_count": 13,
   "id": "f10f2f45-6d27-439e-a131-a5b568171716",
   "metadata": {},
   "outputs": [
    {
     "data": {
      "text/plain": [
       "DEATH_EVENT\n",
       "0    58.761906\n",
       "1    65.215281\n",
       "Name: age, dtype: float64"
      ]
     },
     "execution_count": 13,
     "metadata": {},
     "output_type": "execute_result"
    }
   ],
   "source": [
    "# PREANALYSIS\n",
    "data_net.groupby('DEATH_EVENT')[\"age\"].mean()"
   ]
  },
  {
   "cell_type": "code",
   "execution_count": 14,
   "id": "1971f52e-5ce2-4066-8e57-97bbbf26c8b1",
   "metadata": {},
   "outputs": [
    {
     "name": "stdout",
     "output_type": "stream",
     "text": [
      "variance berbeda, sehingga gunakan t_test\n"
     ]
    },
    {
     "data": {
      "text/plain": [
       "(112.60724685330877, 172.80547574381512)"
      ]
     },
     "execution_count": 14,
     "metadata": {},
     "output_type": "execute_result"
    }
   ],
   "source": [
    "#ANALYSIS\n",
    "# Pasien Selamnat\n",
    "usia_selamat = data_net[data_net['DEATH_EVENT']==0]['age'].values\n",
    "\n",
    "# Pasien Meninggal\n",
    "usia_meninggal = data_net[data_net['DEATH_EVENT']==1]['age'].values\n",
    "\n",
    "# variance \n",
    "print(\"variance berbeda, sehingga gunakan t_test\")\n",
    "np.var(usia_selamat), np.var(usia_meninggal)"
   ]
  },
  {
   "cell_type": "code",
   "execution_count": 15,
   "id": "a9f2ad3e-0d58-4078-b17f-e0e7d46dec02",
   "metadata": {},
   "outputs": [
    {
     "name": "stdout",
     "output_type": "stream",
     "text": [
      "Ttest_indResult(statistic=-4.186210205663688, pvalue=0.9999763239274116)\n",
      "Menerima H0, Rata-rata usia pasien meninggal sama dengan pasien selamat\n"
     ]
    }
   ],
   "source": [
    "#Statistik Uji\n",
    "result = stats.ttest_ind(a = usia_selamat, \n",
    "                         b = usia_meninggal, \n",
    "                         equal_var=False, \n",
    "                         alternative = \"greater\")\n",
    "\n",
    "print(result)\n",
    "\n",
    "# Menentukan aturan keputusan\n",
    "if result.pvalue<0.05:\n",
    "    print(\"Menolak H0, Rata-rata usia pasien meninggal berbeda dengan pasien selamat\")\n",
    "else:\n",
    "    print(\"Menerima H0, Rata-rata usia pasien meninggal sama dengan pasien selamat\")"
   ]
  },
  {
   "cell_type": "markdown",
   "id": "a6d03bdd-19b7-46cb-b2b4-8afd94fc6db9",
   "metadata": {},
   "source": [
    "RATA-RATA PENGGUNAAN SERUM CREATININ PASIEN SERANGAN JANTUNG YANG MENINGGAL BERBEDA DENGAN YANG SELAMAT\n"
   ]
  },
  {
   "cell_type": "code",
   "execution_count": 16,
   "id": "559c3a0a-e34d-4dd4-9869-b2d895222245",
   "metadata": {},
   "outputs": [
    {
     "data": {
      "text/plain": [
       "DEATH_EVENT\n",
       "0    1.184877\n",
       "1    1.835833\n",
       "Name: serum_creatinine, dtype: float64"
      ]
     },
     "execution_count": 16,
     "metadata": {},
     "output_type": "execute_result"
    }
   ],
   "source": [
    "# PREANALYSIS\n",
    "data_net.groupby('DEATH_EVENT')[\"serum_creatinine\"].mean()"
   ]
  },
  {
   "cell_type": "code",
   "execution_count": 17,
   "id": "1acc9615-6242-4ec4-b592-141839c3d3cc",
   "metadata": {},
   "outputs": [
    {
     "name": "stdout",
     "output_type": "stream",
     "text": [
      "variance berbeda, sehingga gunakan t_test\n"
     ]
    },
    {
     "data": {
      "text/plain": [
       "(0.42571661044917375, 2.134207638888889)"
      ]
     },
     "execution_count": 17,
     "metadata": {},
     "output_type": "execute_result"
    }
   ],
   "source": [
    "#ANALYSIS\n",
    "# Pasien Selamnat\n",
    "creatinine_selamat = data_net[data_net['DEATH_EVENT']==0]['serum_creatinine'].values\n",
    "\n",
    "# Pasien Meninggal\n",
    "creatinine_meninggal = data_net[data_net['DEATH_EVENT']==1]['serum_creatinine'].values\n",
    "\n",
    "# variance \n",
    "print(\"variance berbeda, sehingga gunakan t_test\")\n",
    "np.var(creatinine_selamat), np.var(creatinine_meninggal)"
   ]
  },
  {
   "cell_type": "code",
   "execution_count": 18,
   "id": "93daf5b3-e896-4d1e-8c69-d1b0bb3c28cb",
   "metadata": {},
   "outputs": [
    {
     "name": "stdout",
     "output_type": "stream",
     "text": [
      "Ttest_indResult(statistic=-4.152639017521322, pvalue=0.9999680051883002)\n",
      "Menerima H0, Rata-rata penggnaan serum creatinin pasien meninggal sama dengan pasien selamat\n"
     ]
    }
   ],
   "source": [
    "#Statistik Uji\n",
    "result = stats.ttest_ind(a = creatinine_selamat, \n",
    "                         b = creatinine_meninggal, \n",
    "                         equal_var=False, \n",
    "                         alternative = \"greater\")\n",
    "\n",
    "print(result)\n",
    "\n",
    "# Menentukan aturan keputusan\n",
    "if result.pvalue<0.05:\n",
    "    print(\"Menolak H0, Rata-rata penggnaan serum creatinin pasien meninggal berbeda dengan pasien selamat\")\n",
    "else:\n",
    "    print(\"Menerima H0, Rata-rata penggnaan serum creatinin pasien meninggal sama dengan pasien selamat\")"
   ]
  },
  {
   "cell_type": "markdown",
   "id": "5b1b9ab7-585d-4f08-8690-977f896c158b",
   "metadata": {},
   "source": [
    "RATA-RATA PENGGUNAAN SERUM SODIUM PASIEN SERANGAN JANTUNG YANG MENINGGAL BERBEDA DENGAN YANG SELAMAT"
   ]
  },
  {
   "cell_type": "code",
   "execution_count": 19,
   "id": "3fec1c46-bd5e-4dfc-b7b0-ac263324e59b",
   "metadata": {},
   "outputs": [
    {
     "data": {
      "text/plain": [
       "DEATH_EVENT\n",
       "0    137.216749\n",
       "1    135.375000\n",
       "Name: serum_sodium, dtype: float64"
      ]
     },
     "execution_count": 19,
     "metadata": {},
     "output_type": "execute_result"
    }
   ],
   "source": [
    "# PREANALYSIS\n",
    "data_net.groupby('DEATH_EVENT')[\"serum_sodium\"].mean()"
   ]
  },
  {
   "cell_type": "code",
   "execution_count": 20,
   "id": "26af14a8-bf0b-4282-97bf-edb8964db732",
   "metadata": {},
   "outputs": [
    {
     "name": "stdout",
     "output_type": "stream",
     "text": [
      "variance berbeda, sehingga gunakan t_test\n"
     ]
    },
    {
     "data": {
      "text/plain": [
       "(15.785532286636414, 24.755208333333332)"
      ]
     },
     "execution_count": 20,
     "metadata": {},
     "output_type": "execute_result"
    }
   ],
   "source": [
    "#ANALYSIS\n",
    "# Pasien Selamnat\n",
    "sodium_selamat = data_net[data_net['DEATH_EVENT']==0]['serum_sodium'].values\n",
    "\n",
    "# Pasien Meninggal\n",
    "sodium_meninggal = data_net[data_net['DEATH_EVENT']==1]['serum_sodium'].values\n",
    "\n",
    "# variance \n",
    "print(\"variance berbeda, sehingga gunakan t_test\")\n",
    "np.var(sodium_selamat), np.var(sodium_meninggal)"
   ]
  },
  {
   "cell_type": "code",
   "execution_count": 21,
   "id": "50557dec-fb5d-4f06-863a-2cbebc6ac724",
   "metadata": {},
   "outputs": [
    {
     "name": "stdout",
     "output_type": "stream",
     "text": [
      "Ttest_indResult(statistic=3.1645011835006565, pvalue=0.000936162415061617)\n",
      "Menolak H0, Rata-rata penggnaan serum sodium pasien meninggal berbeda dengan pasien selamat\n"
     ]
    }
   ],
   "source": [
    "#Statistik Uji\n",
    "result = stats.ttest_ind(a = sodium_selamat, \n",
    "                         b = sodium_meninggal, \n",
    "                         equal_var=False, \n",
    "                         alternative = \"greater\")\n",
    "print(result)\n",
    "\n",
    "# Menentukan aturan keputusan\n",
    "if result.pvalue<0.05:\n",
    "    print(\"Menolak H0, Rata-rata penggnaan serum sodium pasien meninggal berbeda dengan pasien selamat\")\n",
    "else:\n",
    "    print(\"Menerima H0, Rata-rata penggnaan serum sodium pasien meninggal sama dengan pasien selamat\")"
   ]
  },
  {
   "cell_type": "markdown",
   "id": "75fc085d-c3a2-4eac-ba6d-f6c05801a4b0",
   "metadata": {},
   "source": [
    "### Part III - Correlation Analysis"
   ]
  },
  {
   "cell_type": "code",
   "execution_count": 22,
   "id": "2be8fe0a-1f4f-43ab-989d-35e49dec27d7",
   "metadata": {},
   "outputs": [
    {
     "data": {
      "image/png": "[encoded data removed]",
      "text/plain": [
       "<Figure size 432x288 with 2 Axes>"
      ]
     },
     "metadata": {
      "needs_background": "light"
     },
     "output_type": "display_data"
    }
   ],
   "source": [
    "# Menghitung Korelasi\n",
    "import seaborn as sns\n",
    "import matplotlib.pyplot as plt\n",
    "\n",
    "data_kor = data_net.drop(['anaemia','high_blood_pressure','diabetes','sex','smoking','DEATH_EVENT'],axis = 1)\n",
    "matrix_kor = data_kor.corr().round(2)\n",
    "sns.heatmap(matrix_kor, annot = True)\n",
    "plt.show()"
   ]
  },
  {
   "cell_type": "markdown",
   "id": "a03ee0d1-a6b3-407c-8df8-a218b893aa12",
   "metadata": {},
   "source": [
    "Dapat diketahui bahwa korelasi antar tiga variabel numerik yaitu Usia, Serum Creatinine dan Serum Sodium tersebut sangat rendah dimana korelasi trertinggi hanya sebesar 20% (korelasi serum sodium dan creatinine)."
   ]
  },
  {
   "cell_type": "markdown",
   "id": "30c4f08b-111a-4b51-a8c2-4b6b78103bae",
   "metadata": {},
   "source": [
    "### Part IV - BUILDING REGRESSION MODEL"
   ]
  },
  {
   "cell_type": "code",
   "execution_count": 23,
   "id": "51e19014-b09d-45a2-a2f8-9fdda0e647f5",
   "metadata": {},
   "outputs": [
    {
     "data": {
      "text/plain": [
       "<Figure size 576x396 with 0 Axes>"
      ]
     },
     "metadata": {},
     "output_type": "display_data"
    },
    {
     "data": {
      "image/png": "[encoded data removed]",
      "text/plain": [
       "<Figure size 1080x2016 with 8 Axes>"
      ]
     },
     "metadata": {},
     "output_type": "display_data"
    }
   ],
   "source": [
    "# EKSPLORATORY DATA ANLYSIS\n",
    "plt.style.use(\"seaborn\")\n",
    "plt.subplots_adjust(hspace=0.2)\n",
    "color = 'winter'\n",
    "\n",
    "fig, axs = plt.subplots(4, 2, figsize=(15,28))\n",
    "i=1\n",
    "for feature in data_net.columns:\n",
    "    if feature not in [\"DEATH_EVENT\"] and i < 14:\n",
    "        plt.subplot(4,2,i)\n",
    "        sns.histplot(data=data_net, x=feature, kde=True, palette=color, hue='DEATH_EVENT')\n",
    "        i+=1"
   ]
  },
  {
   "cell_type": "markdown",
   "id": "f3e0d616-f955-45db-a119-46d70cce550e",
   "metadata": {},
   "source": [
    "INTERPRETASI\n",
    "1. Age : Terlihat bahwa pasein meninggal berdasarkan umur terdapat pada rentang 60 - 70 tahun, namun menjadi perhatian adalahg banyak juga pasien gagal jantung yang selamat pada rentang yang cukup dini yaitu 40 -50 tahun. Hal ini menjadi perhatian bahwa penyakit jantunng itu bisa menyerah seseorah pada usia muda.\n",
    "2. Anemia : Pasien gagal jantung dengan riwayat anemia mempunyai proporsi yang sama antar meninggal dan selamat dibandingkan dengan pasien gagal jantung tanpa anemia.\n",
    "3. Diabetes : Pasien gagal jantung dengan riwayat diabetes mempunyai proporsi yang sama antar meninggal dan selamat dibandingkan dengan pasien gagal jantung tanpa diabetes.\n",
    "4. Tekanan darah tinggi : Pasien gagal jantung dengan riwayat tekanan darah tinggi mempunyai proporsi yang sama antar meninggal dan selamat dibandingkan dengan pasien gagal jantung tanpa tekanan darah tinggi.\n",
    "5. Merokok : Pasien gagal jantung dengan riwayat perokok mempunyai proporsi yang sama antar meninggal dan selamat dibandingkan dengan pasien gagal jantung tanpa riwayat merokok.\n",
    "\n",
    "Dari Poin 2,3,4, dan 5 dapat dikatakan bahwa pasien gagal jantung yang memiliki penyakit penyerta (komorbid) akan cenderung lebih tinggi kemungkinan meninggal dibanding tanpa penyakit penyerta.\n",
    "\n",
    "Penggunaan serum ceratinin baik pada pasien yang meninggal maupun selamat sebagian besar berapa pada dosis yang rendah, hal ini berbanding terbalik dengan penggunaan serum sodium dimana pada pasien yang meninggal dan selamat terdapat pada dosis yang tinggi.\n",
    "\n",
    "Secara proporsi baik pasien yang meiniggal maupun selamat sebagian besar lebih banyak dengan jenis kelamin pria dibanding wanita."
   ]
  },
  {
   "cell_type": "markdown",
   "id": "712fce7f-fe84-4d24-b494-be203e71b75e",
   "metadata": {},
   "source": [
    "#### LOGISTIC REGRESSION MODELLING\n",
    "Melakukan seleksi variabel menggunakan Recursive Feature Elimination (RFE) agar dapat mengurangi variabel dengan tetap memepretahankan Kinerja Model"
   ]
  },
  {
   "cell_type": "code",
   "execution_count": 24,
   "id": "cc604ca9-dd45-4f60-a75f-d994a5e1901b",
   "metadata": {},
   "outputs": [
    {
     "name": "stdout",
     "output_type": "stream",
     "text": [
      "Num Features: 4\n",
      "Selected Features: [False  True False  True  True  True False False]\n",
      "Feature Ranking: [4 1 5 1 1 1 3 2]\n"
     ]
    },
    {
     "name": "stderr",
     "output_type": "stream",
     "text": [
      "C:\\ProgramData\\Anaconda3\\lib\\site-packages\\sklearn\\utils\\validation.py:993: DataConversionWarning: A column-vector y was passed when a 1d array was expected. Please change the shape of y to (n_samples, ), for example using ravel().\n",
      "  y = column_or_1d(y, warn=True)\n",
      "C:\\ProgramData\\Anaconda3\\lib\\site-packages\\sklearn\\linear_model\\_logistic.py:814: ConvergenceWarning: lbfgs failed to converge (status=1):\n",
      "STOP: TOTAL NO. of ITERATIONS REACHED LIMIT.\n",
      "\n",
      "Increase the number of iterations (max_iter) or scale the data as shown in:\n",
      "    https://scikit-learn.org/stable/modules/preprocessing.html\n",
      "Please also refer to the documentation for alternative solver options:\n",
      "    https://scikit-learn.org/stable/modules/linear_model.html#logistic-regression\n",
      "  n_iter_i = _check_optimize_result(\n",
      "C:\\ProgramData\\Anaconda3\\lib\\site-packages\\sklearn\\utils\\validation.py:993: DataConversionWarning: A column-vector y was passed when a 1d array was expected. Please change the shape of y to (n_samples, ), for example using ravel().\n",
      "  y = column_or_1d(y, warn=True)\n",
      "C:\\ProgramData\\Anaconda3\\lib\\site-packages\\sklearn\\linear_model\\_logistic.py:814: ConvergenceWarning: lbfgs failed to converge (status=1):\n",
      "STOP: TOTAL NO. of ITERATIONS REACHED LIMIT.\n",
      "\n",
      "Increase the number of iterations (max_iter) or scale the data as shown in:\n",
      "    https://scikit-learn.org/stable/modules/preprocessing.html\n",
      "Please also refer to the documentation for alternative solver options:\n",
      "    https://scikit-learn.org/stable/modules/linear_model.html#logistic-regression\n",
      "  n_iter_i = _check_optimize_result(\n",
      "C:\\ProgramData\\Anaconda3\\lib\\site-packages\\sklearn\\utils\\validation.py:993: DataConversionWarning: A column-vector y was passed when a 1d array was expected. Please change the shape of y to (n_samples, ), for example using ravel().\n",
      "  y = column_or_1d(y, warn=True)\n",
      "C:\\ProgramData\\Anaconda3\\lib\\site-packages\\sklearn\\utils\\validation.py:993: DataConversionWarning: A column-vector y was passed when a 1d array was expected. Please change the shape of y to (n_samples, ), for example using ravel().\n",
      "  y = column_or_1d(y, warn=True)\n",
      "C:\\ProgramData\\Anaconda3\\lib\\site-packages\\sklearn\\utils\\validation.py:993: DataConversionWarning: A column-vector y was passed when a 1d array was expected. Please change the shape of y to (n_samples, ), for example using ravel().\n",
      "  y = column_or_1d(y, warn=True)\n"
     ]
    }
   ],
   "source": [
    "#Feature selection \n",
    "#Recursive feature elimination\n",
    "from sklearn.linear_model import LogisticRegression\n",
    "classifier = LogisticRegression(random_state=0, penalty='l1')\n",
    "from sklearn.feature_selection import RFE\n",
    "\n",
    "#Select best feature\n",
    "y_data = data_net[[\"DEATH_EVENT\"]]\n",
    "X_data = data_net[[\"age\", \"anaemia\", \"diabetes\", \"high_blood_pressure\", \"serum_creatinine\", \"serum_sodium\", \"sex\", \"smoking\"]]\n",
    "\n",
    "# feature extraction\n",
    "model = LogisticRegression(solver='lbfgs')\n",
    "rfe = RFE(model, n_features_to_select= None)\n",
    "fit = rfe.fit(X_data, y_data)\n",
    "print(\"Num Features: %d\" % fit.n_features_)\n",
    "print(\"Selected Features: %s\" % fit.support_)\n",
    "print(\"Feature Ranking: %s\" % fit.ranking_)"
   ]
  },
  {
   "cell_type": "markdown",
   "id": "19db13ff-e2c3-4f5b-9b70-a86a5f4ae40a",
   "metadata": {},
   "source": [
    "Berdasarkan Hasil analisa RFE yang memiliki Output 1 maka variabel-variabel yang berkontribusi signifikan dalam memprediksi Death Event sebanyak 4 variabel yaitu Anaemia, High Blood Pressure, Serum Creatinine dan Serum Sodium. Selanjutnya akan dilakukan Modelling menggunakan 4 Variabel tersebut. "
   ]
  },
  {
   "cell_type": "code",
   "execution_count": 25,
   "id": "a4f1ffc2-a1bb-4ee7-8a32-b09b87a9ff5c",
   "metadata": {},
   "outputs": [
    {
     "name": "stdout",
     "output_type": "stream",
     "text": [
      "Optimization terminated successfully.\n",
      "         Current function value: 0.565041\n",
      "         Iterations 6\n"
     ]
    }
   ],
   "source": [
    "# Import library modelling\n",
    "import statsmodels.formula.api as smf\n",
    "from scipy.special import expit, logit\n",
    "\n",
    "# Create Logit model object\n",
    "logit_model = smf.logit(\"DEATH_EVENT ~ anaemia + high_blood_pressure + serum_creatinine + serum_sodium\", data_net)\n",
    "\n",
    "# Fit the model\n",
    "model_heart = logit_model.fit()\n",
    "\n",
    "# Extract the results (Coefficient and Standard Error) to DataFrame\n",
    "def print_coef_std_err(results):\n",
    "    \"\"\"\n",
    "    Function to combine estimated coefficients and standard error in one DataFrame\n",
    "    :param results: <statsmodels RegressionResultsWrapper> OLS regression results from \n",
    "    :return df: <pandas DataFrame> \n",
    "    \"\"\"\n",
    "    coef = results.params\n",
    "    std_err = results.bse\n",
    "    \n",
    "    data_net = pd.DataFrame(data = np.transpose([coef, std_err]), \n",
    "                      index = coef.index, \n",
    "                      columns=[\"coef\",\"std err\"])\n",
    "    return data_net\n",
    "\n",
    "results_heart_coef = print_coef_std_err(model_heart)"
   ]
  },
  {
   "cell_type": "code",
   "execution_count": 26,
   "id": "d6997839-94bf-4c72-9725-83f494269f5c",
   "metadata": {},
   "outputs": [
    {
     "data": {
      "text/html": [
       "<div>\n",
       "<style scoped>\n",
       "    .dataframe tbody tr th:only-of-type {\n",
       "        vertical-align: middle;\n",
       "    }\n",
       "\n",
       "    .dataframe tbody tr th {\n",
       "        vertical-align: top;\n",
       "    }\n",
       "\n",
       "    .dataframe thead th {\n",
       "        text-align: right;\n",
       "    }\n",
       "</style>\n",
       "<table border=\"1\" class=\"dataframe\">\n",
       "  <thead>\n",
       "    <tr style=\"text-align: right;\">\n",
       "      <th></th>\n",
       "      <th>coef</th>\n",
       "      <th>std err</th>\n",
       "    </tr>\n",
       "  </thead>\n",
       "  <tbody>\n",
       "    <tr>\n",
       "      <th>Intercept</th>\n",
       "      <td>7.646059</td>\n",
       "      <td>4.309829</td>\n",
       "    </tr>\n",
       "    <tr>\n",
       "      <th>anaemia</th>\n",
       "      <td>0.312633</td>\n",
       "      <td>0.267775</td>\n",
       "    </tr>\n",
       "    <tr>\n",
       "      <th>high_blood_pressure</th>\n",
       "      <td>0.466161</td>\n",
       "      <td>0.275054</td>\n",
       "    </tr>\n",
       "    <tr>\n",
       "      <th>serum_creatinine</th>\n",
       "      <td>0.755673</td>\n",
       "      <td>0.199184</td>\n",
       "    </tr>\n",
       "    <tr>\n",
       "      <th>serum_sodium</th>\n",
       "      <td>-0.071505</td>\n",
       "      <td>0.031231</td>\n",
       "    </tr>\n",
       "  </tbody>\n",
       "</table>\n",
       "</div>"
      ],
      "text/plain": [
       "                         coef   std err\n",
       "Intercept            7.646059  4.309829\n",
       "anaemia              0.312633  0.267775\n",
       "high_blood_pressure  0.466161  0.275054\n",
       "serum_creatinine     0.755673  0.199184\n",
       "serum_sodium        -0.071505  0.031231"
      ]
     },
     "execution_count": 26,
     "metadata": {},
     "output_type": "execute_result"
    }
   ],
   "source": [
    "results_heart_coef"
   ]
  },
  {
   "cell_type": "markdown",
   "id": "6c84df2a-61bd-44fc-a887-3018af89b7ee",
   "metadata": {},
   "source": [
    "$$P(\\text{Death}) = \\text{logit}^{-1}(7.65 + 0.31\\text{Anaemia} + 0.47\\text{High Blood Pressure} + 0.76\\text{Serum Creatinine} - 0.07\\text{Serum Sodium})$$"
   ]
  },
  {
   "cell_type": "markdown",
   "id": "99a7afe8-b829-4229-83d1-b8e317c3b67a",
   "metadata": {},
   "source": [
    "#### PART V. INTERPRETASI MODEL\n",
    "1. Apabila terdapat dua pasien yang memiliki tekanan darah tinggi, kandungan creatinin, dan sodium yang sama maka peluang logit probabilitas untuk meninggal bertambah sebesar 0.31 lebih tinggi pada penderita anemia.\n",
    "2. Apabila terdapat dua pasien yang memiliki anemia, kandungan creatinin, dan sodium yang sama maka peluang logit probabilitas untuk meninggal bertambah sebesar 0.47 lebih tinggi untuk setiap pasien yang memiliki perbedaan kenaikan satu unit saat pengukuran tekanan darah.\n",
    "3. Apabila terdapat dua pasien yang memiliki anemia, tekanan darah tinggi, dan sodium yang sama maka peluang logit probabilitas untuk meninggal bertambah sebesar 0.76 pada penderita yang memiliki kandungan serum creatinin 1 mg/dl yang lebih tinggi.\n",
    "4. Apabila terdapat dua pasien yang memiliki anemia, tekanan darah tinggi, dan creatinin yang sama maka peluang logit probabilitas untuk meninggal bertambah sebesar 0.76 pada penderita yang memiliki kandungan serum sodium 1 mEg/dl yang lebih tinggi.\n",
    "5. Standar error dari intercept dan keempat koefisien lebih kecil sehingga koefisien cukup baik. \n",
    "6. Nilai dari koeffisien variabel prediktor sangat masuk akal karena:\n",
    "\n",
    "a. Pasien dengan anemia memiliki kecenderungan untuk meninggal dibanding dengan pasien yang tidak memiliki riwayat anemia.\n",
    "\n",
    "b. Pasien dengan tekanan darah tinggi memiliki kecenderungan untuk meninggal dibanding dengan pasien yang memiliki tekanan darah normal.\n",
    "\n",
    "c. Semakin tinggi kadar Kreatinin dalam darah maka akan menggangu fungsi ginjal serta berdampak pada kinerja jantung.\n",
    "\n",
    "d. Semakin tinggi kadar Sodium (natrium) dalam darah akan meningkatkan kinerja otot jantung untk berkontraksi sehingga kemungkinan pasien selamat lebih tinggi."
   ]
  },
  {
   "cell_type": "markdown",
   "id": "603639e7-d1d4-498a-850b-c931b88ad03c",
   "metadata": {},
   "source": [
    "#### PART VI. Model Evaluation and Recommendation\n",
    " Selanjutnya akan dilakukan evaluasi Model menggunakan Log Score."
   ]
  },
  {
   "cell_type": "code",
   "execution_count": 27,
   "id": "5b5e8cbd-07c6-41c5-abb7-b2bcff12d8c7",
   "metadata": {},
   "outputs": [
    {
     "data": {
      "text/html": [
       "<div>\n",
       "<style scoped>\n",
       "    .dataframe tbody tr th:only-of-type {\n",
       "        vertical-align: middle;\n",
       "    }\n",
       "\n",
       "    .dataframe tbody tr th {\n",
       "        vertical-align: top;\n",
       "    }\n",
       "\n",
       "    .dataframe thead th {\n",
       "        text-align: right;\n",
       "    }\n",
       "</style>\n",
       "<table border=\"1\" class=\"dataframe\">\n",
       "  <thead>\n",
       "    <tr style=\"text-align: right;\">\n",
       "      <th></th>\n",
       "      <th>log_score</th>\n",
       "    </tr>\n",
       "  </thead>\n",
       "  <tbody>\n",
       "    <tr>\n",
       "      <th>null_model</th>\n",
       "      <td>-207.251007</td>\n",
       "    </tr>\n",
       "  </tbody>\n",
       "</table>\n",
       "</div>"
      ],
      "text/plain": [
       "             log_score\n",
       "null_model -207.251007"
      ]
     },
     "execution_count": 27,
     "metadata": {},
     "output_type": "execute_result"
    }
   ],
   "source": [
    "# LOGSCORE NULL MODEL\n",
    "# Consider we're just guessing the predicted probability of switching by flippling a coin (p=0.5), The log score is:\n",
    "# predicted outcome (p)\n",
    "prob = 0.5\n",
    "\n",
    "# true outcome\n",
    "death = data_net[\"DEATH_EVENT\"].copy()\n",
    "\n",
    "logscore_null_model = np.sum(death * np.log(prob) + (1 - death) * np.log(1 - prob))\n",
    "\n",
    "#Extract log score in DataFrame for more convenient comparison\n",
    "logscore = pd.DataFrame(data = logscore_null_model, columns = [\"log_score\"], index = [\"null_model\"])\n",
    "logscore"
   ]
  },
  {
   "cell_type": "code",
   "execution_count": 28,
   "id": "8c7d6de9-8578-4f67-bc85-4350ac5e685f",
   "metadata": {},
   "outputs": [
    {
     "data": {
      "text/html": [
       "<div>\n",
       "<style scoped>\n",
       "    .dataframe tbody tr th:only-of-type {\n",
       "        vertical-align: middle;\n",
       "    }\n",
       "\n",
       "    .dataframe tbody tr th {\n",
       "        vertical-align: top;\n",
       "    }\n",
       "\n",
       "    .dataframe thead th {\n",
       "        text-align: right;\n",
       "    }\n",
       "</style>\n",
       "<table border=\"1\" class=\"dataframe\">\n",
       "  <thead>\n",
       "    <tr style=\"text-align: right;\">\n",
       "      <th></th>\n",
       "      <th>log_score</th>\n",
       "    </tr>\n",
       "  </thead>\n",
       "  <tbody>\n",
       "    <tr>\n",
       "      <th>null_model</th>\n",
       "      <td>-207.251007</td>\n",
       "    </tr>\n",
       "    <tr>\n",
       "      <th>baseline_model</th>\n",
       "      <td>-187.675175</td>\n",
       "    </tr>\n",
       "  </tbody>\n",
       "</table>\n",
       "</div>"
      ],
      "text/plain": [
       "                 log_score\n",
       "null_model     -207.251007\n",
       "baseline_model -187.675175"
      ]
     },
     "execution_count": 28,
     "metadata": {},
     "output_type": "execute_result"
    }
   ],
   "source": [
    "# LOGSCORE BASELINE MODEL\n",
    "# the proportion of the \"death\"\n",
    "prob = round(np.sum(death)/len(death), 2)\n",
    "prob\n",
    "\n",
    "# number of respondents who switch the well\n",
    "np.sum(death)\n",
    "\n",
    "# number of respondents who not switch the well\n",
    "np.sum(1 - death)\n",
    "\n",
    "logscore_baseline_model = np.sum(death * np.log(prob) + (1 - death) * np.log(1 - prob))\n",
    "\n",
    "#Extract log score in DataFrame for more convenient comparison\n",
    "logscore.loc[\"baseline_model\",\"log_score\"] = logscore_baseline_model\n",
    "logscore"
   ]
  },
  {
   "cell_type": "code",
   "execution_count": 29,
   "id": "a7762d81-f51a-40b4-8927-325a046386a6",
   "metadata": {},
   "outputs": [
    {
     "data": {
      "text/plain": [
       "0.32"
      ]
     },
     "execution_count": 29,
     "metadata": {},
     "output_type": "execute_result"
    }
   ],
   "source": [
    "prob"
   ]
  },
  {
   "cell_type": "code",
   "execution_count": 30,
   "id": "5d867d0e-a65a-4b0e-8839-4209dd7188de",
   "metadata": {},
   "outputs": [
    {
     "data": {
      "text/html": [
       "<div>\n",
       "<style scoped>\n",
       "    .dataframe tbody tr th:only-of-type {\n",
       "        vertical-align: middle;\n",
       "    }\n",
       "\n",
       "    .dataframe tbody tr th {\n",
       "        vertical-align: top;\n",
       "    }\n",
       "\n",
       "    .dataframe thead th {\n",
       "        text-align: right;\n",
       "    }\n",
       "</style>\n",
       "<table border=\"1\" class=\"dataframe\">\n",
       "  <thead>\n",
       "    <tr style=\"text-align: right;\">\n",
       "      <th></th>\n",
       "      <th>log_score</th>\n",
       "    </tr>\n",
       "  </thead>\n",
       "  <tbody>\n",
       "    <tr>\n",
       "      <th>null_model</th>\n",
       "      <td>-207.251007</td>\n",
       "    </tr>\n",
       "    <tr>\n",
       "      <th>baseline_model</th>\n",
       "      <td>-187.675175</td>\n",
       "    </tr>\n",
       "    <tr>\n",
       "      <th>logreg_model1</th>\n",
       "      <td>-168.947397</td>\n",
       "    </tr>\n",
       "  </tbody>\n",
       "</table>\n",
       "</div>"
      ],
      "text/plain": [
       "                 log_score\n",
       "null_model     -207.251007\n",
       "baseline_model -187.675175\n",
       "logreg_model1  -168.947397"
      ]
     },
     "execution_count": 30,
     "metadata": {},
     "output_type": "execute_result"
    }
   ],
   "source": [
    "# LOGSCORE LOGISTIC MODEL\n",
    "pred_prob_death = model_heart.predict(data_net[[\"anaemia\",\"high_blood_pressure\",\"serum_creatinine\",\"serum_sodium\"]])\n",
    "\n",
    "logscore_logreg_model1 = np.sum(death * np.log(pred_prob_death) + (1 - death) * np.log(1-pred_prob_death))\n",
    "logscore_logreg_model1\n",
    "\n",
    "#Extract log score in DataFrame for more convenient comparison\n",
    "logscore.loc[\"logreg_model1\",\"log_score\"] = logscore_logreg_model1\n",
    "logscore"
   ]
  },
  {
   "cell_type": "code",
   "execution_count": 31,
   "id": "31fe5b80-cabd-464b-a0a3-5cfb65eb44f5",
   "metadata": {},
   "outputs": [
    {
     "name": "stdout",
     "output_type": "stream",
     "text": [
      "Optimization terminated successfully.\n",
      "         Current function value: 0.564811\n",
      "         Iterations 7\n"
     ]
    }
   ],
   "source": [
    "# Create Logit model object\n",
    "logit_model = smf.logit(\"DEATH_EVENT ~ anaemia + high_blood_pressure + serum_creatinine + serum_sodium + anaemia:high_blood_pressure:serum_creatinine:serum_sodium\", data_net)\n",
    "\n",
    "# Fit the model\n",
    "model_heart_i1 = logit_model.fit()\n",
    "\n",
    "# Extract the results (Coefficient and Standard Error) to DataFrame\n",
    "results_heart_coef_i1 = print_coef_std_err(model_heart_i1)\n"
   ]
  },
  {
   "cell_type": "code",
   "execution_count": 32,
   "id": "10c300de-057b-4e87-b3fc-c906f6b52b2e",
   "metadata": {},
   "outputs": [
    {
     "data": {
      "text/html": [
       "<div>\n",
       "<style scoped>\n",
       "    .dataframe tbody tr th:only-of-type {\n",
       "        vertical-align: middle;\n",
       "    }\n",
       "\n",
       "    .dataframe tbody tr th {\n",
       "        vertical-align: top;\n",
       "    }\n",
       "\n",
       "    .dataframe thead th {\n",
       "        text-align: right;\n",
       "    }\n",
       "</style>\n",
       "<table border=\"1\" class=\"dataframe\">\n",
       "  <thead>\n",
       "    <tr style=\"text-align: right;\">\n",
       "      <th></th>\n",
       "      <th>coef</th>\n",
       "      <th>std err</th>\n",
       "    </tr>\n",
       "  </thead>\n",
       "  <tbody>\n",
       "    <tr>\n",
       "      <th>Intercept</th>\n",
       "      <td>7.676932</td>\n",
       "      <td>4.303205</td>\n",
       "    </tr>\n",
       "    <tr>\n",
       "      <th>anaemia</th>\n",
       "      <td>0.246786</td>\n",
       "      <td>0.321810</td>\n",
       "    </tr>\n",
       "    <tr>\n",
       "      <th>high_blood_pressure</th>\n",
       "      <td>0.387197</td>\n",
       "      <td>0.348743</td>\n",
       "    </tr>\n",
       "    <tr>\n",
       "      <th>serum_creatinine</th>\n",
       "      <td>0.741469</td>\n",
       "      <td>0.203286</td>\n",
       "    </tr>\n",
       "    <tr>\n",
       "      <th>serum_sodium</th>\n",
       "      <td>-0.071373</td>\n",
       "      <td>0.031179</td>\n",
       "    </tr>\n",
       "    <tr>\n",
       "      <th>anaemia:high_blood_pressure:serum_creatinine:serum_sodium</th>\n",
       "      <td>0.001048</td>\n",
       "      <td>0.002871</td>\n",
       "    </tr>\n",
       "  </tbody>\n",
       "</table>\n",
       "</div>"
      ],
      "text/plain": [
       "                                                        coef   std err\n",
       "Intercept                                           7.676932  4.303205\n",
       "anaemia                                             0.246786  0.321810\n",
       "high_blood_pressure                                 0.387197  0.348743\n",
       "serum_creatinine                                    0.741469  0.203286\n",
       "serum_sodium                                       -0.071373  0.031179\n",
       "anaemia:high_blood_pressure:serum_creatinine:se...  0.001048  0.002871"
      ]
     },
     "execution_count": 32,
     "metadata": {},
     "output_type": "execute_result"
    }
   ],
   "source": [
    "results_heart_coef_i1"
   ]
  },
  {
   "cell_type": "code",
   "execution_count": 33,
   "id": "506a7c39-bccd-4aa1-a4f1-d7bd5946c571",
   "metadata": {},
   "outputs": [
    {
     "data": {
      "text/plain": [
       "0.431438127090301"
      ]
     },
     "execution_count": 33,
     "metadata": {},
     "output_type": "execute_result"
    }
   ],
   "source": [
    "data_net[\"anaemia\"].mean()"
   ]
  },
  {
   "cell_type": "code",
   "execution_count": 34,
   "id": "0fec2783-e878-4ced-90fe-0bb3c1fe4126",
   "metadata": {},
   "outputs": [
    {
     "data": {
      "text/plain": [
       "0.3511705685618729"
      ]
     },
     "execution_count": 34,
     "metadata": {},
     "output_type": "execute_result"
    }
   ],
   "source": [
    "data_net[\"high_blood_pressure\"].mean()"
   ]
  },
  {
   "cell_type": "code",
   "execution_count": 35,
   "id": "3c141854-ae70-46c1-a593-48450d0e8292",
   "metadata": {},
   "outputs": [
    {
     "data": {
      "text/plain": [
       "1.393879598662207"
      ]
     },
     "execution_count": 35,
     "metadata": {},
     "output_type": "execute_result"
    }
   ],
   "source": [
    "data_net[\"serum_creatinine\"].mean()"
   ]
  },
  {
   "cell_type": "code",
   "execution_count": 36,
   "id": "61618bdb-33cb-48b4-aef9-e6708c72efac",
   "metadata": {},
   "outputs": [
    {
     "data": {
      "text/plain": [
       "136.62541806020067"
      ]
     },
     "execution_count": 36,
     "metadata": {},
     "output_type": "execute_result"
    }
   ],
   "source": [
    "data_net[\"serum_sodium\"].mean()"
   ]
  },
  {
   "cell_type": "markdown",
   "id": "e9c08754-bacb-45d4-b96a-8049d0d89478",
   "metadata": {},
   "source": [
    "$$P(\\text{Death}) = \\text{logit}^{-1}(7.68 + 0.24\\text{Anaemia} + 0.38\\text{High Blood Pressure} + 0.74\\text{Serum Creatinine} - 0.07\\text{Serum Sodium})- 0.01 \\text{Anaemia} \\times \\text{High_Blood_Pressure} \\times \\text{Serum Creatine} \\times \\text{Serum Sodium}$$"
   ]
  },
  {
   "cell_type": "code",
   "execution_count": 37,
   "id": "718548fb-7238-46ec-991c-d7ac9cbf4005",
   "metadata": {},
   "outputs": [
    {
     "data": {
      "text/html": [
       "<div>\n",
       "<style scoped>\n",
       "    .dataframe tbody tr th:only-of-type {\n",
       "        vertical-align: middle;\n",
       "    }\n",
       "\n",
       "    .dataframe tbody tr th {\n",
       "        vertical-align: top;\n",
       "    }\n",
       "\n",
       "    .dataframe thead th {\n",
       "        text-align: right;\n",
       "    }\n",
       "</style>\n",
       "<table border=\"1\" class=\"dataframe\">\n",
       "  <thead>\n",
       "    <tr style=\"text-align: right;\">\n",
       "      <th></th>\n",
       "      <th>log_score</th>\n",
       "    </tr>\n",
       "  </thead>\n",
       "  <tbody>\n",
       "    <tr>\n",
       "      <th>null_model</th>\n",
       "      <td>-207.251007</td>\n",
       "    </tr>\n",
       "    <tr>\n",
       "      <th>baseline_model</th>\n",
       "      <td>-187.675175</td>\n",
       "    </tr>\n",
       "    <tr>\n",
       "      <th>logreg_model1</th>\n",
       "      <td>-168.947397</td>\n",
       "    </tr>\n",
       "    <tr>\n",
       "      <th>logreg_modeli1</th>\n",
       "      <td>-168.878488</td>\n",
       "    </tr>\n",
       "  </tbody>\n",
       "</table>\n",
       "</div>"
      ],
      "text/plain": [
       "                 log_score\n",
       "null_model     -207.251007\n",
       "baseline_model -187.675175\n",
       "logreg_model1  -168.947397\n",
       "logreg_modeli1 -168.878488"
      ]
     },
     "execution_count": 37,
     "metadata": {},
     "output_type": "execute_result"
    }
   ],
   "source": [
    "# LOGSCORE LOGISTIC MODEL WITH INTERACTION\n",
    "pred_prob_deathi1 = model_heart_i1.predict(data_net[[\"anaemia\",\"high_blood_pressure\",\"serum_creatinine\",\"serum_sodium\"]])\n",
    "\n",
    "logscore_logreg_modeli1 = np.sum(death * np.log(pred_prob_deathi1) + (1 - death) * np.log(1-pred_prob_deathi1))\n",
    "logscore_logreg_modeli1\n",
    "\n",
    "#Extract log score in DataFrame for more convenient comparison\n",
    "logscore.loc[\"logreg_modeli1\",\"log_score\"] = logscore_logreg_modeli1\n",
    "logscore"
   ]
  },
  {
   "cell_type": "markdown",
   "id": "386b482c-864a-42ab-a2d1-ef75f3c55b5b",
   "metadata": {},
   "source": [
    "Dapat dilihat bahwa penaksiran dengan menggunakan regresi logistik merupakan penaksiran yang cukup baik karena memberikan peningkatan hasil regresi logistik."
   ]
  },
  {
   "cell_type": "markdown",
   "id": "cbaeda52-a18b-464d-9ec6-d0af93ebacef",
   "metadata": {},
   "source": [
    "**Rekomendasi**"
   ]
  },
  {
   "cell_type": "markdown",
   "id": "7d260a1a-911f-4cdb-8e88-0651415d3ad2",
   "metadata": {},
   "source": [
    "- Perlu dilakukan simulasi penggunaan kombinasi interaksi agar mendapatkan hasil log score yang lebih baik.\n",
    "- Melakukan metode seleksi variabel lain agar model memperoleh hasil yang lebih baik.\n",
    "- Mengingat pada uji proporsi dari beberapa variabel tidak terlalu berbeda maka perlu dipertimbangkan dalam proses pengambilan sampel atau bila perlu untuk dimasukkan variabel lain."
   ]
  },
  {
   "cell_type": "code",
   "execution_count": null,
   "id": "b64899cf-096c-4c63-81a3-d317163f850e",
   "metadata": {},
   "outputs": [],
   "source": []
  }
 ],
 "metadata": {
  "kernelspec": {
   "display_name": "Python 3 (ipykernel)",
   "language": "python",
   "name": "python3"
  },
  "language_info": {
   "codemirror_mode": {
    "name": "ipython",
    "version": 3
   },
   "file_extension": ".py",
   "mimetype": "text/x-python",
   "name": "python",
   "nbconvert_exporter": "python",
   "pygments_lexer": "ipython3",
   "version": "3.9.12"
  }
 },
 "nbformat": 4,
 "nbformat_minor": 5
}
